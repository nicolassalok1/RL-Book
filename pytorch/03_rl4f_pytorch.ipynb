{
 "cells": [
  {
   "cell_type": "markdown",
   "id": "475819a4-e148-4616-b1cb-44b659aeb08a",
   "metadata": {},
   "source": [
    "<img src=\"https://hilpisch.com/tpq_logo.png\" alt=\"The Python Quants\" width=\"35%\" align=\"right\" border=\"0\"><br>"
   ]
  },
  {
   "cell_type": "markdown",
   "id": "280cc0c6-2c18-46cd-8af7-3f19b64a6d7e",
   "metadata": {},
   "source": [
    "# Reinforcement Learning for Finance\n",
    "\n",
    "**Chapter 03 &mdash; Financial Q-Learning**\n",
    "\n",
    "&copy; Dr. Yves J. Hilpisch\n",
    "\n",
    "<a href=\"https://tpq.io\" target=\"_blank\">https://tpq.io</a> | <a href=\"https://twitter.com/dyjh\" target=\"_blank\">@dyjh</a> | <a href=\"mailto:team@tpq.io\">team@tpq.io</a>"
   ]
  },
  {
   "cell_type": "markdown",
   "id": "d6be6f8b-e00e-402c-9df1-1d3f16e76c7e",
   "metadata": {},
   "source": [
    "## Finance Environment"
   ]
  },
  {
   "cell_type": "code",
   "id": "f2c8cd7e-d93d-4c4d-ba77-3c0cb7b677af",
   "metadata": {
    "ExecuteTime": {
     "end_time": "2025-05-06T14:55:26.219091Z",
     "start_time": "2025-05-06T14:55:26.203875Z"
    }
   },
   "source": [
    "import os\n",
    "import random"
   ],
   "outputs": [],
   "execution_count": 1
  },
  {
   "cell_type": "code",
   "id": "bd8d3cf4-c30c-432a-bd3f-23e98c4d201c",
   "metadata": {
    "ExecuteTime": {
     "end_time": "2025-05-06T14:55:26.234261Z",
     "start_time": "2025-05-06T14:55:26.230194Z"
    }
   },
   "source": [
    "random.seed(100)\n",
    "os.environ['PYTHONHASHSEED'] = '0'"
   ],
   "outputs": [],
   "execution_count": 2
  },
  {
   "cell_type": "code",
   "id": "cb33cd0c-4fb1-4456-911f-0d92597db8c0",
   "metadata": {
    "ExecuteTime": {
     "end_time": "2025-05-06T14:55:26.432566Z",
     "start_time": "2025-05-06T14:55:26.418379Z"
    }
   },
   "source": [
    "class ActionSpace:\n",
    "    def sample(self):\n",
    "        return random.randint(0, 1)"
   ],
   "outputs": [],
   "execution_count": 3
  },
  {
   "cell_type": "code",
   "id": "30d49bdd-e24b-4d87-a4dc-5639cc172f8e",
   "metadata": {
    "ExecuteTime": {
     "end_time": "2025-05-06T14:55:26.464735Z",
     "start_time": "2025-05-06T14:55:26.450679Z"
    }
   },
   "source": [
    "action_space = ActionSpace()"
   ],
   "outputs": [],
   "execution_count": 4
  },
  {
   "cell_type": "code",
   "id": "416ce315-16d7-4c47-845a-f21a099b8ba3",
   "metadata": {
    "ExecuteTime": {
     "end_time": "2025-05-06T14:55:26.496899Z",
     "start_time": "2025-05-06T14:55:26.481799Z"
    }
   },
   "source": [
    "[action_space.sample() for _ in range(10)]"
   ],
   "outputs": [
    {
     "data": {
      "text/plain": [
       "[0, 1, 1, 0, 1, 1, 1, 0, 0, 0]"
      ]
     },
     "execution_count": 5,
     "metadata": {},
     "output_type": "execute_result"
    }
   ],
   "execution_count": 5
  },
  {
   "cell_type": "code",
   "id": "f4df457f-9014-4e6a-878a-23645c77037d",
   "metadata": {
    "ExecuteTime": {
     "end_time": "2025-05-06T14:55:28.259556Z",
     "start_time": "2025-05-06T14:55:26.513030Z"
    }
   },
   "source": [
    "import numpy as np\n",
    "import pandas as pd"
   ],
   "outputs": [],
   "execution_count": 6
  },
  {
   "cell_type": "code",
   "id": "952353e1-8f39-48ac-ac6d-5a21b9a44315",
   "metadata": {
    "ExecuteTime": {
     "end_time": "2025-05-06T14:55:28.290476Z",
     "start_time": "2025-05-06T14:55:28.275895Z"
    }
   },
   "source": [
    "class Finance:\n",
    "    url = 'https://certificate.tpq.io/rl4finance.csv'\n",
    "    def __init__(self, symbol, feature,\n",
    "                 min_accuracy=0.485, n_features=4):\n",
    "        self.symbol = symbol\n",
    "        self.feature = feature\n",
    "        self.n_features = n_features\n",
    "        self.action_space = ActionSpace()\n",
    "        self.min_accuracy = min_accuracy\n",
    "        self._get_data()\n",
    "        self._prepare_data()\n",
    "    def _get_data(self):\n",
    "        self.raw = pd.read_csv(self.url,\n",
    "                index_col=0, parse_dates=True)"
   ],
   "outputs": [],
   "execution_count": 7
  },
  {
   "cell_type": "code",
   "id": "69e1ed75-1e55-42f4-86a3-db54c60acf1f",
   "metadata": {
    "ExecuteTime": {
     "end_time": "2025-05-06T14:55:28.322814Z",
     "start_time": "2025-05-06T14:55:28.307239Z"
    }
   },
   "source": [
    "class Finance(Finance):\n",
    "    def _prepare_data(self):\n",
    "        self.data = pd.DataFrame(self.raw[self.symbol]).dropna()\n",
    "        self.data['r'] = np.log(self.data / self.data.shift(1))\n",
    "        self.data['d'] = np.where(self.data['r'] > 0, 1, 0)\n",
    "        self.data.dropna(inplace=True)\n",
    "        self.data_ = (self.data - self.data.mean()) / self.data.std()\n",
    "    def reset(self):\n",
    "        self.bar = self.n_features\n",
    "        self.treward = 0\n",
    "        state = self.data_[self.feature].iloc[\n",
    "            self.bar - self.n_features:self.bar].values\n",
    "        return state, {}"
   ],
   "outputs": [],
   "execution_count": 8
  },
  {
   "cell_type": "code",
   "id": "a2b0ccc6-d8ec-4156-bf7a-30ba263fdde9",
   "metadata": {
    "ExecuteTime": {
     "end_time": "2025-05-06T14:55:28.354129Z",
     "start_time": "2025-05-06T14:55:28.340123Z"
    }
   },
   "source": [
    "class Finance(Finance):\n",
    "    def step(self, action):\n",
    "        if action == self.data['d'].iloc[self.bar]:\n",
    "            correct = True\n",
    "        else:\n",
    "            correct = False\n",
    "        reward = 1 if correct else 0\n",
    "        self.treward += reward\n",
    "        self.bar += 1\n",
    "        self.accuracy = self.treward / (self.bar - self.n_features)\n",
    "        if self.bar >= len(self.data):\n",
    "            done = True\n",
    "        elif reward == 1:\n",
    "            done = False\n",
    "        elif (self.accuracy < self.min_accuracy) and (self.bar > 15):\n",
    "            done = True\n",
    "        else:\n",
    "            done = False\n",
    "        next_state = self.data_[self.feature].iloc[\n",
    "            self.bar - self.n_features:self.bar].values\n",
    "        return next_state, reward, done, False, {}"
   ],
   "outputs": [],
   "execution_count": 9
  },
  {
   "cell_type": "code",
   "id": "373a0a8c-3b85-4933-8de5-1103d4cc1a6b",
   "metadata": {
    "ExecuteTime": {
     "end_time": "2025-05-06T14:55:28.587196Z",
     "start_time": "2025-05-06T14:55:28.370644Z"
    }
   },
   "source": [
    "fin = Finance(symbol='EUR=', feature='EUR=')"
   ],
   "outputs": [],
   "execution_count": 10
  },
  {
   "cell_type": "code",
   "id": "d4c4248b-2168-42d2-b766-27270681b5dd",
   "metadata": {
    "ExecuteTime": {
     "end_time": "2025-05-06T14:55:28.633952Z",
     "start_time": "2025-05-06T14:55:28.617630Z"
    }
   },
   "source": [
    "list(fin.raw.columns)"
   ],
   "outputs": [
    {
     "data": {
      "text/plain": [
       "['AAPL.O',\n",
       " 'MSFT.O',\n",
       " 'INTC.O',\n",
       " 'AMZN.O',\n",
       " 'GS.N',\n",
       " '.SPX',\n",
       " '.VIX',\n",
       " 'SPY',\n",
       " 'EUR=',\n",
       " 'XAU=',\n",
       " 'GDX',\n",
       " 'GLD']"
      ]
     },
     "execution_count": 11,
     "metadata": {},
     "output_type": "execute_result"
    }
   ],
   "execution_count": 11
  },
  {
   "cell_type": "code",
   "id": "0c2042dd-3d9a-4976-bb6d-d58daeeaf650",
   "metadata": {
    "ExecuteTime": {
     "end_time": "2025-05-06T14:55:28.665208Z",
     "start_time": "2025-05-06T14:55:28.651597Z"
    }
   },
   "source": [
    "fin.reset()\n",
    "# four lagged, normalized price points"
   ],
   "outputs": [
    {
     "data": {
      "text/plain": [
       "(array([2.74844931, 2.64643904, 2.69560062, 2.68085214]), {})"
      ]
     },
     "execution_count": 12,
     "metadata": {},
     "output_type": "execute_result"
    }
   ],
   "execution_count": 12
  },
  {
   "cell_type": "code",
   "id": "d0e04a87-7f63-4532-8609-2ad598d67067",
   "metadata": {
    "ExecuteTime": {
     "end_time": "2025-05-06T14:55:28.695817Z",
     "start_time": "2025-05-06T14:55:28.683298Z"
    }
   },
   "source": [
    "fin.action_space.sample()"
   ],
   "outputs": [
    {
     "data": {
      "text/plain": [
       "1"
      ]
     },
     "execution_count": 13,
     "metadata": {},
     "output_type": "execute_result"
    }
   ],
   "execution_count": 13
  },
  {
   "cell_type": "code",
   "id": "2c6a11b6-87da-4226-baad-0fa9f4942c44",
   "metadata": {
    "ExecuteTime": {
     "end_time": "2025-05-06T14:55:28.742869Z",
     "start_time": "2025-05-06T14:55:28.724086Z"
    }
   },
   "source": [
    "fin.step(fin.action_space.sample())"
   ],
   "outputs": [
    {
     "data": {
      "text/plain": [
       "(array([2.64643904, 2.69560062, 2.68085214, 2.63046153]), 0, False, False, {})"
      ]
     },
     "execution_count": 14,
     "metadata": {},
     "output_type": "execute_result"
    }
   ],
   "execution_count": 14
  },
  {
   "cell_type": "code",
   "id": "c0a3b905-2eea-406f-9bee-bb61d6f5e463",
   "metadata": {
    "ExecuteTime": {
     "end_time": "2025-05-06T14:55:29.004380Z",
     "start_time": "2025-05-06T14:55:28.759580Z"
    }
   },
   "source": [
    "fin = Finance('EUR=', 'r')"
   ],
   "outputs": [],
   "execution_count": 15
  },
  {
   "cell_type": "code",
   "id": "c490647f-9757-46bf-911d-c53477d9b3d0",
   "metadata": {
    "ExecuteTime": {
     "end_time": "2025-05-06T14:55:29.035693Z",
     "start_time": "2025-05-06T14:55:29.021587Z"
    }
   },
   "source": [
    "fin.reset()\n",
    "# four lagged, normalized log returns"
   ],
   "outputs": [
    {
     "data": {
      "text/plain": [
       "(array([-1.19130476, -1.21344494,  0.61099805, -0.16094865]), {})"
      ]
     },
     "execution_count": 16,
     "metadata": {},
     "output_type": "execute_result"
    }
   ],
   "execution_count": 16
  },
  {
   "cell_type": "code",
   "id": "1c0bab87-6d45-4e17-a52c-3d19273bd804",
   "metadata": {
    "ExecuteTime": {
     "end_time": "2025-05-06T14:55:29.066992Z",
     "start_time": "2025-05-06T14:55:29.053812Z"
    }
   },
   "source": [
    "class RandomAgent:\n",
    "    def __init__(self):\n",
    "        self.env = Finance('EUR=', 'r')\n",
    "    def play(self, episodes=1):\n",
    "        self.trewards = list()\n",
    "        for e in range(episodes):\n",
    "            self.env.reset()\n",
    "            for step in range(1, 100):\n",
    "                a = self.env.action_space.sample()\n",
    "                state, reward, done, trunc, info = self.env.step(a)\n",
    "                if done:\n",
    "                    self.trewards.append(step)\n",
    "                    break"
   ],
   "outputs": [],
   "execution_count": 17
  },
  {
   "cell_type": "code",
   "id": "417b3f00-199f-4db7-b500-b7b7f99ce15b",
   "metadata": {
    "ExecuteTime": {
     "end_time": "2025-05-06T14:55:29.279948Z",
     "start_time": "2025-05-06T14:55:29.084164Z"
    }
   },
   "source": [
    "ra = RandomAgent()"
   ],
   "outputs": [],
   "execution_count": 18
  },
  {
   "cell_type": "code",
   "id": "99850e42-8c2b-46a6-9a92-59a0e5940061",
   "metadata": {
    "ExecuteTime": {
     "end_time": "2025-05-06T14:55:29.325776Z",
     "start_time": "2025-05-06T14:55:29.298228Z"
    }
   },
   "source": [
    "ra.play(15)"
   ],
   "outputs": [],
   "execution_count": 19
  },
  {
   "cell_type": "code",
   "id": "1a6351f5-e532-4703-ae3b-0f7ec2483f48",
   "metadata": {
    "ExecuteTime": {
     "end_time": "2025-05-06T14:55:29.356164Z",
     "start_time": "2025-05-06T14:55:29.342956Z"
    }
   },
   "source": [
    "ra.trewards"
   ],
   "outputs": [
    {
     "data": {
      "text/plain": [
       "[17, 13, 17, 12, 12, 12, 13, 23, 31, 13, 12, 15]"
      ]
     },
     "execution_count": 20,
     "metadata": {},
     "output_type": "execute_result"
    }
   ],
   "execution_count": 20
  },
  {
   "cell_type": "code",
   "id": "9590104e-899f-4a4a-81a3-0b952a8f1818",
   "metadata": {
    "ExecuteTime": {
     "end_time": "2025-05-06T14:55:29.386499Z",
     "start_time": "2025-05-06T14:55:29.373323Z"
    }
   },
   "source": [
    "round(sum(ra.trewards) / len(ra.trewards), 2)"
   ],
   "outputs": [
    {
     "data": {
      "text/plain": [
       "15.83"
      ]
     },
     "execution_count": 21,
     "metadata": {},
     "output_type": "execute_result"
    }
   ],
   "execution_count": 21
  },
  {
   "cell_type": "code",
   "id": "2252d5e0-0c3f-4900-a96f-1fe6348ccd18",
   "metadata": {
    "ExecuteTime": {
     "end_time": "2025-05-06T14:55:29.416821Z",
     "start_time": "2025-05-06T14:55:29.402662Z"
    }
   },
   "source": [
    "len(fin.data)"
   ],
   "outputs": [
    {
     "data": {
      "text/plain": [
       "2607"
      ]
     },
     "execution_count": 22,
     "metadata": {},
     "output_type": "execute_result"
    }
   ],
   "execution_count": 22
  },
  {
   "cell_type": "markdown",
   "id": "b0151fd8-57af-4ea7-9c4b-5aa98d779868",
   "metadata": {},
   "source": [
    "## DQL Agent"
   ]
  },
  {
   "cell_type": "code",
   "id": "06e651e5-4eb4-4001-b8a3-d629721b6eed",
   "metadata": {
    "ExecuteTime": {
     "end_time": "2025-05-06T14:55:31.182952Z",
     "start_time": "2025-05-06T14:55:29.434024Z"
    }
   },
   "source": [
    "import os\n",
    "import random\n",
    "import warnings\n",
    "import numpy as np\n",
    "import torch\n",
    "import torch.nn as nn\n",
    "import torch.optim as optim\n",
    "from collections import deque"
   ],
   "outputs": [],
   "execution_count": 23
  },
  {
   "cell_type": "code",
   "id": "a04e9dcb-5a0c-463b-9714-012a9b8e4093",
   "metadata": {
    "ExecuteTime": {
     "end_time": "2025-05-06T14:55:31.214435Z",
     "start_time": "2025-05-06T14:55:31.200241Z"
    }
   },
   "source": [
    "warnings.simplefilter('ignore')"
   ],
   "outputs": [],
   "execution_count": 24
  },
  {
   "cell_type": "code",
   "id": "9c5656a5-7378-494b-a43f-5ba736105485",
   "metadata": {
    "ExecuteTime": {
     "end_time": "2025-05-06T14:55:31.244830Z",
     "start_time": "2025-05-06T14:55:31.230690Z"
    }
   },
   "source": [
    "lr = 0.0001"
   ],
   "outputs": [],
   "execution_count": 25
  },
  {
   "cell_type": "code",
   "id": "9a1c06c7-6477-4a73-9bf5-68b497c52e8c",
   "metadata": {
    "ExecuteTime": {
     "end_time": "2025-05-06T14:55:31.275237Z",
     "start_time": "2025-05-06T14:55:31.262096Z"
    }
   },
   "source": [
    "class DQLAgent:\n",
    "    def __init__(self, symbol, feature, min_accuracy, n_features=4):\n",
    "        self.device = torch.device('cuda' if torch.cuda.is_available() else 'cpu')\n",
    "        self.epsilon = 1.0\n",
    "        self.epsilon_decay = 0.9975\n",
    "        self.epsilon_min = 0.1\n",
    "        self.memory = deque(maxlen=2000)\n",
    "        self.batch_size = 32\n",
    "        self.gamma = 0.5\n",
    "        self.trewards = []\n",
    "        self.max_treward = 0\n",
    "        self.n_features = n_features\n",
    "        # Define neural network\n",
    "        class Net(nn.Module):\n",
    "            def __init__(self, input_dim, output_dim):\n",
    "                super(Net, self).__init__()\n",
    "                self.fc1 = nn.Linear(input_dim, 24)\n",
    "                self.fc2 = nn.Linear(24, 24)\n",
    "                self.out = nn.Linear(24, output_dim)\n",
    "            def forward(self, x):\n",
    "                x = torch.relu(self.fc1(x))\n",
    "                x = torch.relu(self.fc2(x))\n",
    "                return self.out(x)\n",
    "        self.model = Net(n_features, 2).to(self.device)\n",
    "        self.optimizer = optim.Adam(self.model.parameters(), lr=lr)\n",
    "        self.loss_fn = nn.MSELoss()\n",
    "        self.env = Finance(symbol, feature, min_accuracy, n_features)\n",
    "    def act(self, state):\n",
    "        if random.random() < self.epsilon:\n",
    "            return self.env.action_space.sample()\n",
    "        state = torch.FloatTensor(state).unsqueeze(0).to(self.device)\n",
    "        with torch.no_grad():\n",
    "            q_values = self.model(state)\n",
    "        return int(torch.argmax(q_values[0]).item())\n",
    "    def replay(self):\n",
    "        batch = random.sample(self.memory, self.batch_size)\n",
    "        for state, action, next_state, reward, done in batch:\n",
    "            state_tensor = torch.FloatTensor(state).unsqueeze(0).to(self.device)\n",
    "            next_state_tensor = torch.FloatTensor(next_state).unsqueeze(0).to(self.device)\n",
    "            with torch.no_grad():\n",
    "                target_q = reward + (0 if done else self.gamma * torch.max(self.model(next_state_tensor)[0]).item())\n",
    "            current_q = self.model(state_tensor)[0, action]\n",
    "            loss = self.loss_fn(current_q, torch.tensor(target_q, dtype=torch.float, device=self.device))\n",
    "            self.optimizer.zero_grad()\n",
    "            loss.backward()\n",
    "            self.optimizer.step()\n",
    "        if self.epsilon > self.epsilon_min:\n",
    "            self.epsilon *= self.epsilon_decay\n",
    "    def learn(self, episodes):\n",
    "        for e in range(1, episodes + 1):\n",
    "            state, _ = self.env.reset()\n",
    "            for f in range(1, 5000):\n",
    "                action = self.act(state)\n",
    "                next_state, reward, done, trunc, _ = self.env.step(action)\n",
    "                self.memory.append((state, action, next_state, reward, done))\n",
    "                state = next_state\n",
    "                if done:\n",
    "                    self.trewards.append(f)\n",
    "                    self.max_treward = max(self.max_treward, f)\n",
    "                    print(f'episode={e:4d} | treward={f:4d} | max={self.max_treward:4d}', end='\\r')\n",
    "                    break\n",
    "            if len(self.memory) > self.batch_size:\n",
    "                self.replay()\n",
    "        print()\n",
    "    def test(self, episodes):\n",
    "        ma = self.env.min_accuracy\n",
    "        self.env.min_accuracy = 0.5\n",
    "        for e in range(1, episodes + 1):\n",
    "            state, _ = self.env.reset()\n",
    "            for f in range(1, 5001):\n",
    "                state_tensor = torch.FloatTensor(state).unsqueeze(0).to(self.device)\n",
    "                with torch.no_grad():\n",
    "                    action = int(torch.argmax(self.model(state_tensor)[0]).item())\n",
    "                state, reward, done, trunc, _ = self.env.step(action)\n",
    "                if done:\n",
    "                    print(f'total reward={f} | accuracy={self.env.accuracy:.3f}')\n",
    "                    break\n",
    "        self.env.min_accuracy = ma"
   ],
   "outputs": [],
   "execution_count": 26
  },
  {
   "cell_type": "code",
   "id": "d83cf567-0389-474d-accd-38431edaf755",
   "metadata": {
    "ExecuteTime": {
     "end_time": "2025-05-06T14:55:31.306111Z",
     "start_time": "2025-05-06T14:55:31.292489Z"
    }
   },
   "source": [
    "random.seed(250)\n",
    "np.random.seed(250)\n",
    "torch.manual_seed(250)"
   ],
   "outputs": [
    {
     "data": {
      "text/plain": [
       "<torch._C.Generator at 0x12cb4cb4b70>"
      ]
     },
     "execution_count": 27,
     "metadata": {},
     "output_type": "execute_result"
    }
   ],
   "execution_count": 27
  },
  {
   "cell_type": "code",
   "id": "268f6f90-082d-4827-bdef-8bffa57016c7",
   "metadata": {
    "ExecuteTime": {
     "end_time": "2025-05-06T14:55:33.391225Z",
     "start_time": "2025-05-06T14:55:31.323977Z"
    }
   },
   "source": "agent = DQLAgent('EUR=', 'r', 0.495, 4)",
   "outputs": [],
   "execution_count": 28
  },
  {
   "cell_type": "code",
   "id": "ae2336af-de7e-4b3a-8ecd-292a06a0beb4",
   "metadata": {
    "ExecuteTime": {
     "end_time": "2025-05-06T14:55:43.850915Z",
     "start_time": "2025-05-06T14:55:33.408387Z"
    }
   },
   "source": [
    "%time agent.learn(250)"
   ],
   "outputs": [
    {
     "name": "stdout",
     "output_type": "stream",
     "text": [
      "episode= 250 | treward=  12 | max=2603\r\n",
      "CPU times: total: 10.2 s\n",
      "Wall time: 10.4 s\n"
     ]
    }
   ],
   "execution_count": 29
  },
  {
   "cell_type": "code",
   "id": "6a1023a5-07ef-4ac3-86c4-307a356cd2ba",
   "metadata": {
    "ExecuteTime": {
     "end_time": "2025-05-06T14:55:45.012574Z",
     "start_time": "2025-05-06T14:55:43.866584Z"
    }
   },
   "source": [
    "agent.test(5)"
   ],
   "outputs": [
    {
     "name": "stdout",
     "output_type": "stream",
     "text": [
      "total reward=2603 | accuracy=0.516\n",
      "total reward=2603 | accuracy=0.516\n",
      "total reward=2603 | accuracy=0.516\n",
      "total reward=2603 | accuracy=0.516\n",
      "total reward=2603 | accuracy=0.516\n"
     ]
    }
   ],
   "execution_count": 30
  },
  {
   "cell_type": "markdown",
   "id": "20e3eaa7-ac35-44e5-bffc-93662c2d2c55",
   "metadata": {},
   "source": [
    "<img src=\"https://hilpisch.com/tpq_logo.png\" alt=\"The Python Quants\" width=\"35%\" align=\"right\" border=\"0\"><br>\n",
    "\n",
    "<a href=\"https://tpq.io\" target=\"_blank\">https://tpq.io</a> | <a href=\"https://twitter.com/dyjh\" target=\"_blank\">@dyjh</a> | <a href=\"mailto:team@tpq.io\">team@tpq.io</a>"
   ]
  }
 ],
 "metadata": {
  "kernelspec": {
   "display_name": "Python 3 (ipykernel)",
   "language": "python",
   "name": "python3"
  },
  "language_info": {
   "codemirror_mode": {
    "name": "ipython",
    "version": 3
   },
   "file_extension": ".py",
   "mimetype": "text/x-python",
   "name": "python",
   "nbconvert_exporter": "python",
   "pygments_lexer": "ipython3",
   "version": "3.11.12"
  }
 },
 "nbformat": 4,
 "nbformat_minor": 5
}
