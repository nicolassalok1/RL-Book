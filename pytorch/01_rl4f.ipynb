{
 "cells": [
  {
   "cell_type": "markdown",
   "id": "475819a4-e148-4616-b1cb-44b659aeb08a",
   "metadata": {},
   "source": [
    "<img src=\"https://hilpisch.com/tpq_logo.png\" alt=\"The Python Quants\" width=\"35%\" align=\"right\" border=\"0\"><br>"
   ]
  },
  {
   "cell_type": "markdown",
   "id": "280cc0c6-2c18-46cd-8af7-3f19b64a6d7e",
   "metadata": {},
   "source": [
    "# Reinforcement Learning for Finance\n",
    "\n",
    "**Chapter 01 &mdash; Learning through Interaction**\n",
    "\n",
    "&copy; Dr. Yves J. Hilpisch\n",
    "\n",
    "<a href=\"https://tpq.io\" target=\"_blank\">https://tpq.io</a> | <a href=\"https://twitter.com/dyjh\" target=\"_blank\">@dyjh</a> | <a href=\"mailto:team@tpq.io\">team@tpq.io</a>"
   ]
  },
  {
   "cell_type": "markdown",
   "id": "3bbe3719-fcab-4963-8701-087562dd5d79",
   "metadata": {},
   "source": [
    "## Learning"
   ]
  },
  {
   "cell_type": "markdown",
   "id": "a6b8710a-19a3-4b5b-ae60-ffbd53dc45c4",
   "metadata": {},
   "source": [
    "### Tossing a Biased Coin"
   ]
  },
  {
   "cell_type": "code",
   "id": "5d781056-299a-4dd5-8908-038a2438ec44",
   "metadata": {
    "ExecuteTime": {
     "end_time": "2025-05-06T14:55:26.573626Z",
     "start_time": "2025-05-06T14:55:26.157168Z"
    }
   },
   "source": [
    "import numpy as np\n",
    "from numpy.random import default_rng\n",
    "rng = default_rng(seed=100)"
   ],
   "outputs": [],
   "execution_count": 1
  },
  {
   "cell_type": "code",
   "id": "3cf14cf9-53ed-428b-a597-3f380f4cff5a",
   "metadata": {
    "ExecuteTime": {
     "end_time": "2025-05-06T14:55:26.588793Z",
     "start_time": "2025-05-06T14:55:26.577630Z"
    }
   },
   "source": [
    "ssp = [1, 0]"
   ],
   "outputs": [],
   "execution_count": 2
  },
  {
   "cell_type": "code",
   "id": "ed2b1719-cac4-46c2-9398-c634068d3666",
   "metadata": {
    "ExecuteTime": {
     "end_time": "2025-05-06T14:55:26.776746Z",
     "start_time": "2025-05-06T14:55:26.760867Z"
    }
   },
   "source": [
    "asp = [1, 0]"
   ],
   "outputs": [],
   "execution_count": 3
  },
  {
   "cell_type": "code",
   "id": "20cfd83a-7e57-4fa4-8126-81bb7a4758ba",
   "metadata": {
    "ExecuteTime": {
     "end_time": "2025-05-06T14:55:26.792445Z",
     "start_time": "2025-05-06T14:55:26.776746Z"
    }
   },
   "source": [
    "def epoch():\n",
    "    tr = 0\n",
    "    for _ in range(100):\n",
    "        a = rng.choice(asp)\n",
    "        s = rng.choice(ssp)\n",
    "        if a == s:\n",
    "            tr += 1\n",
    "    return tr"
   ],
   "outputs": [],
   "execution_count": 4
  },
  {
   "cell_type": "code",
   "id": "89fc1f62-24df-4baa-9784-3126431dbdfe",
   "metadata": {
    "ExecuteTime": {
     "end_time": "2025-05-06T14:55:27.121381Z",
     "start_time": "2025-05-06T14:55:26.808119Z"
    }
   },
   "source": [
    "rl = np.array([epoch() for _ in range(250)])\n",
    "rl[:10]"
   ],
   "outputs": [
    {
     "data": {
      "text/plain": [
       "array([56, 47, 48, 55, 55, 51, 54, 43, 55, 40])"
      ]
     },
     "execution_count": 5,
     "metadata": {},
     "output_type": "execute_result"
    }
   ],
   "execution_count": 5
  },
  {
   "cell_type": "code",
   "id": "52f92a52-d305-42f1-a1ff-7b3aacc26549",
   "metadata": {
    "ExecuteTime": {
     "end_time": "2025-05-06T14:55:27.153377Z",
     "start_time": "2025-05-06T14:55:27.147377Z"
    }
   },
   "source": [
    "rl.mean()"
   ],
   "outputs": [
    {
     "data": {
      "text/plain": [
       "49.968"
      ]
     },
     "execution_count": 6,
     "metadata": {},
     "output_type": "execute_result"
    }
   ],
   "execution_count": 6
  },
  {
   "cell_type": "code",
   "id": "855b4cf5-75d8-4dbc-bdae-1cd753e50691",
   "metadata": {
    "ExecuteTime": {
     "end_time": "2025-05-06T14:55:27.184380Z",
     "start_time": "2025-05-06T14:55:27.177380Z"
    }
   },
   "source": [
    "ssp = [1, 1, 1, 1, 0]"
   ],
   "outputs": [],
   "execution_count": 7
  },
  {
   "cell_type": "code",
   "id": "8148d8b9-de41-4d16-ab8f-b41d45a2a1a7",
   "metadata": {
    "ExecuteTime": {
     "end_time": "2025-05-06T14:55:27.230206Z",
     "start_time": "2025-05-06T14:55:27.222209Z"
    }
   },
   "source": [
    "asp = [1, 0]"
   ],
   "outputs": [],
   "execution_count": 8
  },
  {
   "cell_type": "code",
   "id": "bea9ad54-804a-4d76-a614-50b01be65805",
   "metadata": {
    "ExecuteTime": {
     "end_time": "2025-05-06T14:55:27.261487Z",
     "start_time": "2025-05-06T14:55:27.247442Z"
    }
   },
   "source": [
    "def epoch():\n",
    "    tr = 0\n",
    "    for _ in range(100):\n",
    "        a = rng.choice(asp)\n",
    "        s = rng.choice(ssp)\n",
    "        if a == s:\n",
    "            tr += 1\n",
    "    return tr"
   ],
   "outputs": [],
   "execution_count": 9
  },
  {
   "cell_type": "code",
   "id": "988094e8-64c7-46e4-a54e-f111765c9e71",
   "metadata": {
    "ExecuteTime": {
     "end_time": "2025-05-06T14:55:27.597188Z",
     "start_time": "2025-05-06T14:55:27.279554Z"
    }
   },
   "source": [
    "rl = np.array([epoch() for _ in range(250)])\n",
    "rl[:10]"
   ],
   "outputs": [
    {
     "data": {
      "text/plain": [
       "array([53, 56, 40, 55, 53, 49, 43, 45, 50, 51])"
      ]
     },
     "execution_count": 10,
     "metadata": {},
     "output_type": "execute_result"
    }
   ],
   "execution_count": 10
  },
  {
   "cell_type": "code",
   "id": "0aeed633-c81c-4b7f-9e19-c1a03ac3e32d",
   "metadata": {
    "ExecuteTime": {
     "end_time": "2025-05-06T14:55:27.627767Z",
     "start_time": "2025-05-06T14:55:27.615401Z"
    }
   },
   "source": [
    "rl.mean()"
   ],
   "outputs": [
    {
     "data": {
      "text/plain": [
       "49.924"
      ]
     },
     "execution_count": 11,
     "metadata": {},
     "output_type": "execute_result"
    }
   ],
   "execution_count": 11
  },
  {
   "cell_type": "code",
   "id": "f2220ff9-c8c2-462f-aad0-c07405272976",
   "metadata": {
    "ExecuteTime": {
     "end_time": "2025-05-06T14:55:27.658146Z",
     "start_time": "2025-05-06T14:55:27.650011Z"
    }
   },
   "source": [
    "ssp = [1, 1, 1, 1, 0]"
   ],
   "outputs": [],
   "execution_count": 12
  },
  {
   "cell_type": "code",
   "id": "e043cb3e-b943-4c4a-a337-f50810795d63",
   "metadata": {
    "ExecuteTime": {
     "end_time": "2025-05-06T14:55:27.688682Z",
     "start_time": "2025-05-06T14:55:27.675391Z"
    }
   },
   "source": [
    "def epoch(n):\n",
    "    tr = 0\n",
    "    asp = [0, 1]\n",
    "    for _ in range(n):\n",
    "        a = rng.choice(asp)\n",
    "        s = rng.choice(ssp)\n",
    "        if a == s:\n",
    "            tr += 1\n",
    "        asp.append(s)\n",
    "    return tr"
   ],
   "outputs": [],
   "execution_count": 13
  },
  {
   "cell_type": "code",
   "id": "63ed3ba7-5701-4613-8a37-94eb4b114354",
   "metadata": {
    "ExecuteTime": {
     "end_time": "2025-05-06T14:55:28.061244Z",
     "start_time": "2025-05-06T14:55:27.708782Z"
    }
   },
   "source": [
    "rl = np.array([epoch(100) for _ in range(250)])\n",
    "rl[:10]"
   ],
   "outputs": [
    {
     "data": {
      "text/plain": [
       "array([71, 65, 67, 69, 68, 72, 68, 68, 77, 73])"
      ]
     },
     "execution_count": 14,
     "metadata": {},
     "output_type": "execute_result"
    }
   ],
   "execution_count": 14
  },
  {
   "cell_type": "code",
   "id": "ccb173db-cf9f-4ee2-8bb1-f2b41990f130",
   "metadata": {
    "ExecuteTime": {
     "end_time": "2025-05-06T14:55:28.092323Z",
     "start_time": "2025-05-06T14:55:28.079122Z"
    }
   },
   "source": [
    "rl.mean()"
   ],
   "outputs": [
    {
     "data": {
      "text/plain": [
       "66.78"
      ]
     },
     "execution_count": 15,
     "metadata": {},
     "output_type": "execute_result"
    }
   ],
   "execution_count": 15
  },
  {
   "cell_type": "code",
   "id": "74d45682-4f46-4950-b35c-2f8dff86d448",
   "metadata": {
    "ExecuteTime": {
     "end_time": "2025-05-06T14:55:28.123395Z",
     "start_time": "2025-05-06T14:55:28.109683Z"
    }
   },
   "source": [
    "from collections import Counter"
   ],
   "outputs": [],
   "execution_count": 16
  },
  {
   "cell_type": "code",
   "id": "535ead89-8667-48ae-830f-ec6679780272",
   "metadata": {
    "ExecuteTime": {
     "end_time": "2025-05-06T14:55:28.166133Z",
     "start_time": "2025-05-06T14:55:28.151468Z"
    }
   },
   "source": [
    "ssp = [1, 1, 1, 1, 0]"
   ],
   "outputs": [],
   "execution_count": 17
  },
  {
   "cell_type": "code",
   "id": "67569ec3-4525-443e-8cda-390af539804d",
   "metadata": {
    "ExecuteTime": {
     "end_time": "2025-05-06T14:55:28.181259Z",
     "start_time": "2025-05-06T14:55:28.170260Z"
    }
   },
   "source": [
    "def epoch(n):\n",
    "    tr = 0\n",
    "    asp = [0, 1]\n",
    "    for _ in range(n):\n",
    "        c = Counter(asp)\n",
    "        a = c.most_common()[0][0]\n",
    "        s = rng.choice(ssp)\n",
    "        if a == s:\n",
    "            tr += 1\n",
    "        asp.append(s)\n",
    "    return tr"
   ],
   "outputs": [],
   "execution_count": 18
  },
  {
   "cell_type": "code",
   "id": "fc5893e5-a997-4fe8-88a4-13afe44c5175",
   "metadata": {
    "ExecuteTime": {
     "end_time": "2025-05-06T14:55:28.556071Z",
     "start_time": "2025-05-06T14:55:28.198444Z"
    }
   },
   "source": [
    "rl = np.array([epoch(100) for _ in range(250)])\n",
    "rl[:10]"
   ],
   "outputs": [
    {
     "data": {
      "text/plain": [
       "array([81, 70, 74, 77, 82, 74, 81, 80, 77, 78])"
      ]
     },
     "execution_count": 19,
     "metadata": {},
     "output_type": "execute_result"
    }
   ],
   "execution_count": 19
  },
  {
   "cell_type": "code",
   "id": "7187f48e-e276-4f0a-959b-62ddc1bd23e8",
   "metadata": {
    "ExecuteTime": {
     "end_time": "2025-05-06T14:55:28.587196Z",
     "start_time": "2025-05-06T14:55:28.574849Z"
    }
   },
   "source": [
    "rl.mean()"
   ],
   "outputs": [
    {
     "data": {
      "text/plain": [
       "78.828"
      ]
     },
     "execution_count": 20,
     "metadata": {},
     "output_type": "execute_result"
    }
   ],
   "execution_count": 20
  },
  {
   "cell_type": "markdown",
   "id": "451350fe-1075-4969-808c-b5aaf37cec25",
   "metadata": {},
   "source": [
    "### Rolling a Biased Die"
   ]
  },
  {
   "cell_type": "code",
   "id": "bf4b0649-b1fa-4b74-bd31-ae5f20d00105",
   "metadata": {
    "ExecuteTime": {
     "end_time": "2025-05-06T14:55:28.618706Z",
     "start_time": "2025-05-06T14:55:28.612036Z"
    }
   },
   "source": [
    "ssp = [1, 2, 3, 4, 4, 4, 4, 4, 5, 6]"
   ],
   "outputs": [],
   "execution_count": 21
  },
  {
   "cell_type": "code",
   "id": "4e3900fe-b22b-4ea2-b00c-8d057e553cad",
   "metadata": {
    "ExecuteTime": {
     "end_time": "2025-05-06T14:55:28.649594Z",
     "start_time": "2025-05-06T14:55:28.635460Z"
    }
   },
   "source": [
    "asp = [1, 2, 3, 4, 5, 6]"
   ],
   "outputs": [],
   "execution_count": 22
  },
  {
   "cell_type": "code",
   "id": "6bac0a45-5a2a-4276-a329-86978e3f9db1",
   "metadata": {
    "ExecuteTime": {
     "end_time": "2025-05-06T14:55:28.680739Z",
     "start_time": "2025-05-06T14:55:28.667209Z"
    }
   },
   "source": [
    "def epoch():\n",
    "    tr = 0\n",
    "    for _ in range(600):\n",
    "        a = rng.choice(asp)\n",
    "        s = rng.choice(ssp)\n",
    "        if a == s:\n",
    "            tr += 1\n",
    "    return tr"
   ],
   "outputs": [],
   "execution_count": 23
  },
  {
   "cell_type": "code",
   "id": "062abdd3-2a65-4d1e-a9af-cf25772b54c4",
   "metadata": {
    "ExecuteTime": {
     "end_time": "2025-05-06T14:55:30.593226Z",
     "start_time": "2025-05-06T14:55:28.713625Z"
    }
   },
   "source": [
    "rl = np.array([epoch() for _ in range(250)])\n",
    "rl[:10]"
   ],
   "outputs": [
    {
     "data": {
      "text/plain": [
       "array([ 92,  96, 106,  99,  96, 107, 101, 106,  92, 117])"
      ]
     },
     "execution_count": 24,
     "metadata": {},
     "output_type": "execute_result"
    }
   ],
   "execution_count": 24
  },
  {
   "cell_type": "code",
   "id": "a82b6f5f-7b32-403a-94a5-91ebc9e90815",
   "metadata": {
    "ExecuteTime": {
     "end_time": "2025-05-06T14:55:30.640660Z",
     "start_time": "2025-05-06T14:55:30.624836Z"
    }
   },
   "source": [
    "rl.mean()"
   ],
   "outputs": [
    {
     "data": {
      "text/plain": [
       "101.22"
      ]
     },
     "execution_count": 25,
     "metadata": {},
     "output_type": "execute_result"
    }
   ],
   "execution_count": 25
  },
  {
   "cell_type": "code",
   "id": "7e3a9fb0-22ea-4fed-8ff3-f0ab48169031",
   "metadata": {
    "ExecuteTime": {
     "end_time": "2025-05-06T14:55:30.656774Z",
     "start_time": "2025-05-06T14:55:30.640660Z"
    }
   },
   "source": [
    "def epoch():\n",
    "    tr = 0\n",
    "    asp = [1, 2, 3, 4, 5, 6]\n",
    "    for _ in range(600):\n",
    "        a = rng.choice(asp)\n",
    "        s = rng.choice(ssp)\n",
    "        if a == s:\n",
    "            tr += 1\n",
    "        asp.append(s)\n",
    "    return tr"
   ],
   "outputs": [],
   "execution_count": 26
  },
  {
   "cell_type": "code",
   "id": "79f099b7-ca59-45d1-bb10-0f19c8f7fd35",
   "metadata": {
    "ExecuteTime": {
     "end_time": "2025-05-06T14:55:34.634662Z",
     "start_time": "2025-05-06T14:55:30.672812Z"
    }
   },
   "source": [
    "rl = np.array([epoch() for _ in range(250)])\n",
    "rl[:10]"
   ],
   "outputs": [
    {
     "data": {
      "text/plain": [
       "array([182, 174, 162, 157, 184, 167, 190, 208, 171, 153])"
      ]
     },
     "execution_count": 27,
     "metadata": {},
     "output_type": "execute_result"
    }
   ],
   "execution_count": 27
  },
  {
   "cell_type": "code",
   "id": "cd641f5f-205e-4414-8006-1a8464aa49cb",
   "metadata": {
    "ExecuteTime": {
     "end_time": "2025-05-06T14:55:34.666518Z",
     "start_time": "2025-05-06T14:55:34.652614Z"
    }
   },
   "source": [
    "rl.mean()"
   ],
   "outputs": [
    {
     "data": {
      "text/plain": [
       "176.296"
      ]
     },
     "execution_count": 28,
     "metadata": {},
     "output_type": "execute_result"
    }
   ],
   "execution_count": 28
  },
  {
   "cell_type": "code",
   "id": "be27b1cb-19bf-4c08-bffe-84e7164a2131",
   "metadata": {
    "ExecuteTime": {
     "end_time": "2025-05-06T14:55:34.829434Z",
     "start_time": "2025-05-06T14:55:34.804784Z"
    }
   },
   "source": [
    "def epoch():\n",
    "    tr = 0\n",
    "    asp = [1, 2, 3, 4, 5, 6]\n",
    "    for _ in range(600):\n",
    "        c = Counter(asp)\n",
    "        a = c.most_common()[0][0]\n",
    "        s = rng.choice(ssp)\n",
    "        if a == s:\n",
    "            tr += 1\n",
    "        asp.append(s)\n",
    "    return tr"
   ],
   "outputs": [],
   "execution_count": 29
  },
  {
   "cell_type": "code",
   "id": "fd68ba52-aaca-4c17-819e-5a9f96053c14",
   "metadata": {
    "ExecuteTime": {
     "end_time": "2025-05-06T14:55:40.042973Z",
     "start_time": "2025-05-06T14:55:34.891309Z"
    }
   },
   "source": [
    "rl = np.array([epoch() for _ in range(250)])\n",
    "rl[:10]"
   ],
   "outputs": [
    {
     "data": {
      "text/plain": [
       "array([305, 288, 312, 306, 318, 302, 304, 311, 313, 281])"
      ]
     },
     "execution_count": 30,
     "metadata": {},
     "output_type": "execute_result"
    }
   ],
   "execution_count": 30
  },
  {
   "cell_type": "code",
   "id": "6c6b0239-493d-4fc8-8ca9-2dd49f8eff4f",
   "metadata": {
    "ExecuteTime": {
     "end_time": "2025-05-06T14:55:40.074202Z",
     "start_time": "2025-05-06T14:55:40.058809Z"
    }
   },
   "source": [
    "rl.mean()"
   ],
   "outputs": [
    {
     "data": {
      "text/plain": [
       "297.204"
      ]
     },
     "execution_count": 31,
     "metadata": {},
     "output_type": "execute_result"
    }
   ],
   "execution_count": 31
  },
  {
   "cell_type": "code",
   "id": "c0337cd1-b618-48df-bb51-3686caa3f1dd",
   "metadata": {
    "ExecuteTime": {
     "end_time": "2025-05-06T14:55:40.105589Z",
     "start_time": "2025-05-06T14:55:40.089926Z"
    }
   },
   "source": [
    "cm = 10 ** 40\n",
    "print(f'{cm:,}')"
   ],
   "outputs": [
    {
     "name": "stdout",
     "output_type": "stream",
     "text": [
      "10,000,000,000,000,000,000,000,000,000,000,000,000,000\n"
     ]
    }
   ],
   "execution_count": 32
  },
  {
   "cell_type": "markdown",
   "id": "20e3eaa7-ac35-44e5-bffc-93662c2d2c55",
   "metadata": {},
   "source": [
    "<img src=\"https://hilpisch.com/tpq_logo.png\" alt=\"The Python Quants\" width=\"35%\" align=\"right\" border=\"0\"><br>\n",
    "\n",
    "<a href=\"https://tpq.io\" target=\"_blank\">https://tpq.io</a> | <a href=\"https://twitter.com/dyjh\" target=\"_blank\">@dyjh</a> | <a href=\"mailto:team@tpq.io\">team@tpq.io</a>"
   ]
  }
 ],
 "metadata": {
  "kernelspec": {
   "display_name": "Python 3 (ipykernel)",
   "language": "python",
   "name": "python3"
  },
  "language_info": {
   "codemirror_mode": {
    "name": "ipython",
    "version": 3
   },
   "file_extension": ".py",
   "mimetype": "text/x-python",
   "name": "python",
   "nbconvert_exporter": "python",
   "pygments_lexer": "ipython3",
   "version": "3.10.14"
  }
 },
 "nbformat": 4,
 "nbformat_minor": 5
}
