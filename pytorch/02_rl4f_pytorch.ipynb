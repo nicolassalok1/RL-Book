{
 "cells": [
  {
   "cell_type": "markdown",
   "id": "475819a4-e148-4616-b1cb-44b659aeb08a",
   "metadata": {},
   "source": [
    "<img src=\"https://hilpisch.com/tpq_logo.png\" alt=\"The Python Quants\" width=\"35%\" align=\"right\" border=\"0\"><br>"
   ]
  },
  {
   "cell_type": "markdown",
   "id": "280cc0c6-2c18-46cd-8af7-3f19b64a6d7e",
   "metadata": {},
   "source": [
    "# Reinforcement Learning for Finance\n",
    "\n",
    "**Chapter 02 &mdash; Deep Q-Learning**\n",
    "\n",
    "&copy; Dr. Yves J. Hilpisch\n",
    "\n",
    "<a href=\"https://tpq.io\" target=\"_blank\">https://tpq.io</a> | <a href=\"https://twitter.com/dyjh\" target=\"_blank\">@dyjh</a> | <a href=\"mailto:team@tpq.io\">team@tpq.io</a>"
   ]
  },
  {
   "cell_type": "markdown",
   "id": "d6be6f8b-e00e-402c-9df1-1d3f16e76c7e",
   "metadata": {},
   "source": [
    "## CartPole"
   ]
  },
  {
   "cell_type": "markdown",
   "id": "5e3924c3-2cad-4400-8806-5acf2f4b9b16",
   "metadata": {},
   "source": [
    "### The Game Environment "
   ]
  },
  {
   "cell_type": "code",
   "id": "72f3a51a-71e6-497d-bab3-926444a6bb30",
   "metadata": {
    "ExecuteTime": {
     "end_time": "2025-05-09T14:41:42.156668Z",
     "start_time": "2025-05-09T14:41:41.894123Z"
    }
   },
   "source": [
    "import gymnasium as gym"
   ],
   "outputs": [],
   "execution_count": 1
  },
  {
   "cell_type": "code",
   "id": "e19725f2-a026-487e-826c-00fa5fce71ec",
   "metadata": {
    "ExecuteTime": {
     "end_time": "2025-05-09T14:41:42.203021Z",
     "start_time": "2025-05-09T14:41:42.182022Z"
    }
   },
   "source": [
    "env = gym.make('CartPole-v1')"
   ],
   "outputs": [],
   "execution_count": 2
  },
  {
   "cell_type": "code",
   "id": "af76fb4e-3b31-4465-bff5-e5f8362af3d2",
   "metadata": {
    "ExecuteTime": {
     "end_time": "2025-05-09T14:41:42.466766Z",
     "start_time": "2025-05-09T14:41:42.453766Z"
    }
   },
   "source": [
    "env.action_space"
   ],
   "outputs": [
    {
     "data": {
      "text/plain": [
       "Discrete(2)"
      ]
     },
     "execution_count": 3,
     "metadata": {},
     "output_type": "execute_result"
    }
   ],
   "execution_count": 3
  },
  {
   "cell_type": "code",
   "id": "bdb45da1-6f9c-464d-bb16-e098ddd52838",
   "metadata": {
    "ExecuteTime": {
     "end_time": "2025-05-09T14:41:42.496766Z",
     "start_time": "2025-05-09T14:41:42.483767Z"
    }
   },
   "source": [
    "env.action_space.n"
   ],
   "outputs": [
    {
     "data": {
      "text/plain": [
       "2"
      ]
     },
     "execution_count": 4,
     "metadata": {},
     "output_type": "execute_result"
    }
   ],
   "execution_count": 4
  },
  {
   "cell_type": "code",
   "id": "77e8ec50-f5a4-4706-8937-6724582ebdc3",
   "metadata": {
    "ExecuteTime": {
     "end_time": "2025-05-09T14:41:42.528275Z",
     "start_time": "2025-05-09T14:41:42.514769Z"
    }
   },
   "source": [
    "[env.action_space.sample() for _ in range(10)]"
   ],
   "outputs": [
    {
     "data": {
      "text/plain": [
       "[0, 1, 1, 0, 1, 1, 1, 1, 0, 0]"
      ]
     },
     "execution_count": 5,
     "metadata": {},
     "output_type": "execute_result"
    }
   ],
   "execution_count": 5
  },
  {
   "cell_type": "code",
   "id": "592d3ddc-3958-42ff-b4c7-8924ce0a343d",
   "metadata": {
    "ExecuteTime": {
     "end_time": "2025-05-09T14:41:42.559275Z",
     "start_time": "2025-05-09T14:41:42.546275Z"
    }
   },
   "source": [
    "env.observation_space"
   ],
   "outputs": [
    {
     "data": {
      "text/plain": [
       "Box([-4.8000002e+00 -3.4028235e+38 -4.1887903e-01 -3.4028235e+38], [4.8000002e+00 3.4028235e+38 4.1887903e-01 3.4028235e+38], (4,), float32)"
      ]
     },
     "execution_count": 6,
     "metadata": {},
     "output_type": "execute_result"
    }
   ],
   "execution_count": 6
  },
  {
   "cell_type": "code",
   "id": "19474f1a-29c3-4cc2-89f6-6226845f5468",
   "metadata": {
    "ExecuteTime": {
     "end_time": "2025-05-09T14:41:42.590274Z",
     "start_time": "2025-05-09T14:41:42.576274Z"
    }
   },
   "source": [
    "env.observation_space.shape"
   ],
   "outputs": [
    {
     "data": {
      "text/plain": [
       "(4,)"
      ]
     },
     "execution_count": 7,
     "metadata": {},
     "output_type": "execute_result"
    }
   ],
   "execution_count": 7
  },
  {
   "cell_type": "code",
   "id": "4bdd054d-4a5e-429e-9e44-3e436a20446d",
   "metadata": {
    "ExecuteTime": {
     "end_time": "2025-05-09T14:41:42.621785Z",
     "start_time": "2025-05-09T14:41:42.608278Z"
    }
   },
   "source": [
    "env.reset(seed=100)\n",
    "# cart position, cart velocity, pole angle, pole angular velocity"
   ],
   "outputs": [
    {
     "data": {
      "text/plain": [
       "(array([ 0.03349816,  0.0096554 , -0.02111368, -0.04570484], dtype=float32),\n",
       " {})"
      ]
     },
     "execution_count": 8,
     "metadata": {},
     "output_type": "execute_result"
    }
   ],
   "execution_count": 8
  },
  {
   "cell_type": "code",
   "id": "875c67b7-4817-4fac-8fbb-0596c399af96",
   "metadata": {
    "ExecuteTime": {
     "end_time": "2025-05-09T14:41:42.652784Z",
     "start_time": "2025-05-09T14:41:42.639784Z"
    }
   },
   "source": [
    "env.step(0)"
   ],
   "outputs": [
    {
     "data": {
      "text/plain": [
       "(array([ 0.03369127, -0.18515752, -0.02202777,  0.24024247], dtype=float32),\n",
       " 1.0,\n",
       " False,\n",
       " False,\n",
       " {})"
      ]
     },
     "execution_count": 9,
     "metadata": {},
     "output_type": "execute_result"
    }
   ],
   "execution_count": 9
  },
  {
   "cell_type": "code",
   "id": "7be7afb1-e69d-41d7-b869-c73747e38b61",
   "metadata": {
    "ExecuteTime": {
     "end_time": "2025-05-09T14:41:42.683787Z",
     "start_time": "2025-05-09T14:41:42.670784Z"
    }
   },
   "source": [
    "env.step(1)"
   ],
   "outputs": [
    {
     "data": {
      "text/plain": [
       "(array([ 0.02998812,  0.01027205, -0.01722292, -0.05930644], dtype=float32),\n",
       " 1.0,\n",
       " False,\n",
       " False,\n",
       " {})"
      ]
     },
     "execution_count": 10,
     "metadata": {},
     "output_type": "execute_result"
    }
   ],
   "execution_count": 10
  },
  {
   "cell_type": "code",
   "id": "f8f6e49b-3308-418a-999c-f7d6a052cfea",
   "metadata": {
    "ExecuteTime": {
     "end_time": "2025-05-09T14:41:42.714882Z",
     "start_time": "2025-05-09T14:41:42.700878Z"
    }
   },
   "source": [
    "class RandomAgent:\n",
    "    def __init__(self):\n",
    "        self.env = gym.make('CartPole-v1')\n",
    "    def play(self, episodes=1):\n",
    "        self.trewards = list()\n",
    "        for e in range(episodes):\n",
    "            self.env.reset()\n",
    "            for step in range(1, 100):\n",
    "                a = self.env.action_space.sample()\n",
    "                state, reward, done, trunc, info = self.env.step(a)\n",
    "                if done:\n",
    "                    self.trewards.append(step)\n",
    "                    break"
   ],
   "outputs": [],
   "execution_count": 11
  },
  {
   "cell_type": "code",
   "id": "a947776170963cb1",
   "metadata": {
    "ExecuteTime": {
     "end_time": "2025-05-09T14:41:42.746388Z",
     "start_time": "2025-05-09T14:41:42.732388Z"
    }
   },
   "source": [
    "ra = RandomAgent()"
   ],
   "outputs": [],
   "execution_count": 12
  },
  {
   "metadata": {
    "ExecuteTime": {
     "end_time": "2025-05-09T14:41:48.010094Z",
     "start_time": "2025-05-09T14:41:42.764388Z"
    }
   },
   "cell_type": "code",
   "source": [
    "import torch\n",
    "torch.__version__"
   ],
   "id": "dffbb689-b81e-48cc-9fac-3a7dec9c1ff7",
   "outputs": [
    {
     "data": {
      "text/plain": [
       "'2.7.0+cpu'"
      ]
     },
     "execution_count": 13,
     "metadata": {},
     "output_type": "execute_result"
    }
   ],
   "execution_count": 13
  },
  {
   "cell_type": "code",
   "id": "cbb3b03c-ded1-4ca7-80d2-e316635379b8",
   "metadata": {
    "ExecuteTime": {
     "end_time": "2025-05-09T14:41:48.041601Z",
     "start_time": "2025-05-09T14:41:48.028603Z"
    }
   },
   "source": [
    "ra.play(15)"
   ],
   "outputs": [],
   "execution_count": 14
  },
  {
   "cell_type": "code",
   "id": "5b83a7c9-485a-433d-b637-9ffbe6fe7146",
   "metadata": {
    "ExecuteTime": {
     "end_time": "2025-05-09T14:41:48.087602Z",
     "start_time": "2025-05-09T14:41:48.073603Z"
    }
   },
   "source": [
    "ra.trewards"
   ],
   "outputs": [
    {
     "data": {
      "text/plain": [
       "[30, 13, 35, 36, 24, 29, 16, 12, 17, 16, 23, 11, 36, 16, 9]"
      ]
     },
     "execution_count": 15,
     "metadata": {},
     "output_type": "execute_result"
    }
   ],
   "execution_count": 15
  },
  {
   "cell_type": "code",
   "id": "27d9d910-4f2d-4d7b-bcaa-a28747474c00",
   "metadata": {
    "ExecuteTime": {
     "end_time": "2025-05-09T14:41:48.118605Z",
     "start_time": "2025-05-09T14:41:48.108601Z"
    }
   },
   "source": [
    "round(sum(ra.trewards) / len(ra.trewards), 2)"
   ],
   "outputs": [
    {
     "data": {
      "text/plain": [
       "21.53"
      ]
     },
     "execution_count": 16,
     "metadata": {},
     "output_type": "execute_result"
    }
   ],
   "execution_count": 16
  },
  {
   "cell_type": "code",
   "id": "12e1594d-ea7c-49e9-9149-92848ba72440",
   "metadata": {
    "ExecuteTime": {
     "end_time": "2025-05-09T14:41:48.166127Z",
     "start_time": "2025-05-09T14:41:48.152116Z"
    }
   },
   "source": [
    "import os\n",
    "import random\n",
    "import warnings\n",
    "import numpy as np\n",
    "from torch import optim\n",
    "import torch.nn as nn\n",
    "from collections import deque"
   ],
   "outputs": [],
   "execution_count": 17
  },
  {
   "cell_type": "code",
   "id": "fa105bbb-727f-488d-8152-b5c1cc4d7646",
   "metadata": {
    "ExecuteTime": {
     "end_time": "2025-05-09T14:41:48.181800Z",
     "start_time": "2025-05-09T14:41:48.175801Z"
    }
   },
   "source": [
    "import warnings\n",
    "import os\n",
    "import torch  # Assurez-vous d'importer torch\n",
    "\n",
    "# Configuration de la reproductibilité\n",
    "warnings.simplefilter('ignore')\n",
    "os.environ['PYTHONHASHSEED'] = '0'\n",
    "\n",
    "# Vérifier si CUDA est disponible avant de configurer cudnn\n",
    "if torch.cuda.is_available():\n",
    "    torch.backends.cudnn.deterministic = True\n",
    "    torch.backends.cudnn.benchmark = False\n",
    "else:\n",
    "    print(\"CUDA n'est pas disponible, les paramètres cudnn ne sont pas appliqués\")\n"
   ],
   "outputs": [
    {
     "name": "stdout",
     "output_type": "stream",
     "text": [
      "CUDA n'est pas disponible, les paramètres cudnn ne sont pas appliqués\n"
     ]
    }
   ],
   "execution_count": 18
  },
  {
   "cell_type": "code",
   "id": "0264fac6-2c4a-4ea3-9031-e5006dce93c4",
   "metadata": {
    "ExecuteTime": {
     "end_time": "2025-05-09T14:41:48.211803Z",
     "start_time": "2025-05-09T14:41:48.199800Z"
    }
   },
   "source": [
    "lr = 0.005"
   ],
   "outputs": [],
   "execution_count": 19
  },
  {
   "cell_type": "code",
   "id": "e7c28ee7-4be2-459c-8e27-029ec6ff4b4d",
   "metadata": {
    "ExecuteTime": {
     "end_time": "2025-05-09T14:41:48.305308Z",
     "start_time": "2025-05-09T14:41:48.230309Z"
    }
   },
   "source": [
    "random.seed(100)\n",
    "np.random.seed(100)\n",
    "torch.manual_seed(100)"
   ],
   "outputs": [
    {
     "data": {
      "text/plain": [
       "<torch._C.Generator at 0x1fb84bcb6f0>"
      ]
     },
     "execution_count": 20,
     "metadata": {},
     "output_type": "execute_result"
    }
   ],
   "execution_count": 20
  },
  {
   "cell_type": "code",
   "id": "072e8f75-0936-434f-ad65-c2f7cff91b7c",
   "metadata": {
    "ExecuteTime": {
     "end_time": "2025-05-09T14:41:48.336818Z",
     "start_time": "2025-05-09T14:41:48.323815Z"
    }
   },
   "source": [
    "class DQLAgent:\n",
    "    def __init__(self):\n",
    "        self.epsilon = 1.0\n",
    "        self.epsilon_decay = 0.9975\n",
    "        self.epsilon_min = 0.1\n",
    "        self.memory = deque(maxlen=2000)\n",
    "        self.batch_size = 32\n",
    "        self.gamma = 0.9\n",
    "        self.trewards = []\n",
    "        self.max_treward = 0\n",
    "        self.env = gym.make('CartPole-v1')\n",
    "        self.state_size = self.env.observation_space.shape[0]\n",
    "        self.action_size = self.env.action_space.n\n",
    "        self.device = torch.device('cuda' if torch.cuda.is_available() else 'cpu')\n",
    "        self.model = self._create_model().to(self.device)\n",
    "        self.optimizer = optim.Adam(self.model.parameters(), lr=lr)\n",
    "        self.criterion = nn.MSELoss()\n",
    "    def _create_model(self):\n",
    "        model = nn.Sequential(\n",
    "            nn.Linear(self.state_size, 24),\n",
    "            nn.ReLU(),\n",
    "            nn.Linear(24, 24),\n",
    "            nn.ReLU(),\n",
    "            nn.Linear(24, self.action_size)\n",
    "        )\n",
    "        return model"
   ],
   "outputs": [],
   "execution_count": 21
  },
  {
   "cell_type": "code",
   "id": "03e2299c-14bd-4cc8-af41-89b69d532544",
   "metadata": {
    "ExecuteTime": {
     "end_time": "2025-05-09T14:41:48.398818Z",
     "start_time": "2025-05-09T14:41:48.384819Z"
    }
   },
   "source": [
    "class DQLAgent(DQLAgent):\n",
    "    def act(self, state):\n",
    "        if random.random() < self.epsilon:\n",
    "            return self.env.action_space.sample()\n",
    "        state = torch.FloatTensor(state).to(self.device)\n",
    "        with torch.no_grad():\n",
    "            q_values = self.model(state)\n",
    "        return torch.argmax(q_values).item()\n",
    "    def replay(self):\n",
    "        if len(self.memory) < self.batch_size:\n",
    "            return\n",
    "        batch = random.sample(self.memory, self.batch_size)\n",
    "        states, actions, next_states, rewards, dones = zip(*batch)\n",
    "        states = torch.FloatTensor(states).to(self.device).squeeze(1)\n",
    "        next_states = torch.FloatTensor(next_states).to(self.device).squeeze(1)\n",
    "        actions = torch.LongTensor(actions).to(self.device)\n",
    "        rewards = torch.FloatTensor(rewards).to(self.device)\n",
    "        dones = torch.FloatTensor(dones).to(self.device)\n",
    "        q_values = self.model(states)\n",
    "        q_value = q_values.gather(1, actions.unsqueeze(1)).squeeze(1)\n",
    "        next_q_values = self.model(next_states).max(1)[0]\n",
    "        expected_q_value = rewards + self.gamma * next_q_values * (1 - dones)\n",
    "        loss = self.criterion(q_value, expected_q_value.detach())\n",
    "        self.optimizer.zero_grad()\n",
    "        loss.backward()\n",
    "        self.optimizer.step()\n",
    "        if self.epsilon > self.epsilon_min:\n",
    "            self.epsilon *= self.epsilon_decay"
   ],
   "outputs": [],
   "execution_count": 22
  },
  {
   "cell_type": "code",
   "id": "2bf59f89-41a4-4f6e-8635-0513b3c3d8c1",
   "metadata": {
    "ExecuteTime": {
     "end_time": "2025-05-09T14:41:48.460328Z",
     "start_time": "2025-05-09T14:41:48.443330Z"
    }
   },
   "source": [
    "class DQLAgent(DQLAgent):\n",
    "    def learn(self, episodes):\n",
    "        for e in range(1, episodes + 1):\n",
    "            state, _ = self.env.reset()\n",
    "            state = np.reshape(state, [1, self.state_size])\n",
    "            for f in range(1, 5000):\n",
    "                action = self.act(state)\n",
    "                next_state, reward, done, trunc, _ = self.env.step(action)\n",
    "                next_state = np.reshape(next_state, [1, self.state_size])\n",
    "                self.memory.append([state, action, next_state, reward, done])\n",
    "                state = next_state\n",
    "                if done or trunc:\n",
    "                    self.trewards.append(f)\n",
    "                    self.max_treward = max(self.max_treward, f)\n",
    "                    templ = f'episode={e:4d} | treward={f:4d}'\n",
    "                    templ += f' | max={self.max_treward:4d}'\n",
    "                    print(templ, end='\\r')\n",
    "                    break\n",
    "            if len(self.memory) > self.batch_size:\n",
    "                self.replay()\n",
    "        print()"
   ],
   "outputs": [],
   "execution_count": 23
  },
  {
   "cell_type": "code",
   "id": "6a44a5f9-af9b-4929-a5c4-19e87f871c78",
   "metadata": {
    "ExecuteTime": {
     "end_time": "2025-05-09T14:41:48.507327Z",
     "start_time": "2025-05-09T14:41:48.494330Z"
    }
   },
   "source": [
    "class DQLAgent(DQLAgent):\n",
    "    def test(self, episodes):\n",
    "        for e in range(1, episodes + 1):\n",
    "            state, _ = self.env.reset()\n",
    "            state = np.reshape(state, [1, self.state_size])\n",
    "            for f in range(1, 5001):\n",
    "                state_tensor = torch.FloatTensor(state).to(self.device)\n",
    "                with torch.no_grad():\n",
    "                    q_values = self.model(state_tensor)\n",
    "                action = torch.argmax(q_values).item()\n",
    "                state, reward, done, trunc, _ = self.env.step(action)\n",
    "                state = np.reshape(state, [1, self.state_size])\n",
    "                if done or trunc:\n",
    "                    print(f, end=' ')\n",
    "                    break"
   ],
   "outputs": [],
   "execution_count": 24
  },
  {
   "cell_type": "code",
   "id": "64417ca0-49ba-4558-8c92-d89604ff3e16",
   "metadata": {
    "ExecuteTime": {
     "end_time": "2025-05-09T14:41:52.401320Z",
     "start_time": "2025-05-09T14:41:48.556843Z"
    }
   },
   "source": [
    "from dqlagent_pytorch2 import DQLAgent2\n",
    "\n",
    "agent = DQLAgent2()"
   ],
   "outputs": [
    {
     "name": "stdout",
     "output_type": "stream",
     "text": [
      "CUDA n'est pas disponible, les paramètres cudnn ne sont pas appliqués\n"
     ]
    }
   ],
   "execution_count": 25
  },
  {
   "cell_type": "code",
   "id": "f77a72ab-5a4b-4d3d-863a-f8d08d2e3ce2",
   "metadata": {
    "tags": [],
    "ExecuteTime": {
     "end_time": "2025-05-09T14:42:50.844743Z",
     "start_time": "2025-05-09T14:41:52.418323Z"
    }
   },
   "source": [
    "%time agent.learn(2500)"
   ],
   "outputs": [
    {
     "name": "stdout",
     "output_type": "stream",
     "text": [
      "episode=2500 | treward= 185 | max= 500\r\n",
      "CPU times: total: 45.8 s\n",
      "Wall time: 58.4 s\n"
     ]
    }
   ],
   "execution_count": 26
  },
  {
   "cell_type": "code",
   "id": "fbfc1255-66fe-4c69-9135-70100b981109",
   "metadata": {
    "ExecuteTime": {
     "end_time": "2025-05-09T14:42:50.859890Z",
     "start_time": "2025-05-09T14:42:50.849743Z"
    }
   },
   "source": [
    "agent.epsilon"
   ],
   "outputs": [
    {
     "data": {
      "text/plain": [
       "0.09997053357470892"
      ]
     },
     "execution_count": 27,
     "metadata": {},
     "output_type": "execute_result"
    }
   ],
   "execution_count": 27
  },
  {
   "cell_type": "code",
   "id": "af72f8d3-4e2a-4d0f-8311-a56ba4487832",
   "metadata": {
    "ExecuteTime": {
     "end_time": "2025-05-09T14:42:50.890903Z",
     "start_time": "2025-05-09T14:42:50.877904Z"
    }
   },
   "source": [
    "agent.test(15)"
   ],
   "outputs": [],
   "execution_count": 28
  },
  {
   "cell_type": "markdown",
   "id": "20e3eaa7-ac35-44e5-bffc-93662c2d2c55",
   "metadata": {},
   "source": [
    "<img src=\"https://hilpisch.com/tpq_logo.png\" alt=\"The Python Quants\" width=\"35%\" align=\"right\" border=\"0\"><br>\n",
    "\n",
    "<a href=\"https://tpq.io\" target=\"_blank\">https://tpq.io</a> | <a href=\"https://twitter.com/dyjh\" target=\"_blank\">@dyjh</a> | <a href=\"mailto:team@tpq.io\">team@tpq.io</a>"
   ]
  }
 ],
 "metadata": {
  "kernelspec": {
   "display_name": "Python 3 (ipykernel)",
   "language": "python",
   "name": "python3"
  },
  "language_info": {
   "codemirror_mode": {
    "name": "ipython",
    "version": 3
   },
   "file_extension": ".py",
   "mimetype": "text/x-python",
   "name": "python",
   "nbconvert_exporter": "python",
   "pygments_lexer": "ipython3",
   "version": "3.11.12"
  }
 },
 "nbformat": 4,
 "nbformat_minor": 5
}
